{
 "cells": [
  {
   "cell_type": "code",
   "execution_count": 1,
   "metadata": {},
   "outputs": [],
   "source": [
    "def f(x):\n",
    "    return x * 3  + x **2"
   ]
  },
  {
   "cell_type": "code",
   "execution_count": 4,
   "metadata": {},
   "outputs": [
    {
     "data": {
      "text/plain": [
       "88"
      ]
     },
     "execution_count": 4,
     "metadata": {},
     "output_type": "execute_result"
    }
   ],
   "source": [
    "f(8)"
   ]
  },
  {
   "cell_type": "code",
   "execution_count": 7,
   "metadata": {},
   "outputs": [],
   "source": [
    "import math\n",
    "import numpy as np\n",
    "import matplotlib.pyplot as plt\n",
    "%matplotlib inline"
   ]
  },
  {
   "cell_type": "code",
   "execution_count": 6,
   "metadata": {},
   "outputs": [
    {
     "data": {
      "text/plain": [
       "9.000100000022826"
      ]
     },
     "execution_count": 6,
     "metadata": {},
     "output_type": "execute_result"
    }
   ],
   "source": [
    "h = 0.0001\n",
    "x = 3\n",
    "(f(x+h) - f(x))/h"
   ]
  },
  {
   "cell_type": "code",
   "execution_count": 5,
   "metadata": {},
   "outputs": [
    {
     "name": "stdout",
     "output_type": "stream",
     "text": [
      "4.0\n"
     ]
    }
   ],
   "source": [
    "a = 2\n",
    "b = -3\n",
    "c = 10.0\n",
    "\n",
    "\n",
    "d = a*b + c\n",
    "print(d)"
   ]
  },
  {
   "cell_type": "code",
   "execution_count": 6,
   "metadata": {},
   "outputs": [
    {
     "name": "stdout",
     "output_type": "stream",
     "text": [
      "slope 2.0000000000042206\n"
     ]
    }
   ],
   "source": [
    "h = 0.0001\n",
    "d1 = a*b + c\n",
    "b +=h\n",
    "d2 = a*b + c\n",
    "\n",
    "\n",
    "print('slope', (d2 -d1)/h)\n",
    "\n",
    "# All correct for now."
   ]
  },
  {
   "cell_type": "code",
   "execution_count": 28,
   "metadata": {},
   "outputs": [
    {
     "data": {
      "text/plain": [
       "Value(data=-42.0)"
      ]
     },
     "execution_count": 28,
     "metadata": {},
     "output_type": "execute_result"
    }
   ],
   "source": [
    "class Value:\n",
    "    def __init__(self, data, _children=(), _op='', label=''):\n",
    "        self.data = data\n",
    "        self.grad = 0.0\n",
    "        self._backward = lambda: None\n",
    "        self._prev = set(_children)\n",
    "        self._op = _op\n",
    "        self.label = label\n",
    "\n",
    "    def __repr__(self):\n",
    "        return f\"Value(data={self.data})\"\n",
    "    \n",
    "    def __add__(self, other):\n",
    "        out = Value(self.data + other.data, (self, other),'+')\n",
    "        \n",
    "        def _backward():\n",
    "            self.grad = 1.0 * out.grad\n",
    "            other.grad = 1.0 * out.grad\n",
    "        out._backward = _backward\n",
    "\n",
    "        return out\n",
    "    \n",
    "    def __mul__(self, other):\n",
    "        out = Value(self.data * other.data, (self, other), '*')\n",
    "        \n",
    "        def _backward():\n",
    "            self.grad = other.data * out.grad\n",
    "            other.grad = self.data * out.grad # Havn't understood this part yet ???\n",
    "        out._backward = _backward\n",
    "\n",
    "        return out\n",
    "\n",
    "    \n",
    "\n",
    "    def tanh(self):\n",
    "        x = self.data\n",
    "        t = (math.exp(2*x) - 1)/(math.exp(2*x) + 1)\n",
    "        out = Value(t, (self, ), 'tanh')\n",
    "\n",
    "\n",
    "        def _backward():\n",
    "            self.grad = (1 - t**2) * out.grad\n",
    "        out._backward = _backward\n",
    "\n",
    "\n",
    "        return out\n",
    "    \n",
    "a = Value(2.0, label = 'a')\n",
    "b = Value(-3.0, label = 'b')\n",
    "c = Value(7.0, label = 'c')\n",
    "d = a * b; d.label = 'd'\n",
    "e = c * d; e.label = 'e'\n",
    "e\n"
   ]
  },
  {
   "cell_type": "code",
   "execution_count": 8,
   "metadata": {},
   "outputs": [],
   "source": [
    "b.grad = 2.0"
   ]
  },
  {
   "cell_type": "code",
   "execution_count": 29,
   "metadata": {},
   "outputs": [],
   "source": [
    "from graphviz import Digraph\n",
    "\n",
    "def trace(root):\n",
    "  # builds a set of all nodes and edges in a graph\n",
    "  nodes, edges = set(), set()\n",
    "  def build(v):\n",
    "    if v not in nodes:\n",
    "      nodes.add(v)\n",
    "      for child in v._prev:\n",
    "        edges.add((child, v))\n",
    "        build(child)\n",
    "  build(root)\n",
    "  return nodes, edges\n",
    "\n",
    "def draw_dot(root):\n",
    "  dot = Digraph(format='svg', graph_attr={'rankdir': 'LR'}) # LR = left to right\n",
    "  \n",
    "  nodes, edges = trace(root)\n",
    "  for n in nodes:\n",
    "    uid = str(id(n))\n",
    "    # for any value in the graph, create a rectangular ('record') node for it\n",
    "    dot.node(name = uid, label = \"{ %s | data %.4f | grad %.4f }\" % (n.label, n.data, n.grad), shape='record')\n",
    "    if n._op:\n",
    "      # if this value is a result of some operation, create an op node for it\n",
    "      dot.node(name = uid + n._op, label = n._op)\n",
    "      # and connect this node to it\n",
    "      dot.edge(uid + n._op, uid)\n",
    "\n",
    "  for n1, n2 in edges:\n",
    "    # connect n1 to the op node of n2\n",
    "    dot.edge(str(id(n1)), str(id(n2)) + n2._op)\n",
    "\n",
    "  return dot\n"
   ]
  },
  {
   "cell_type": "code",
   "execution_count": null,
   "metadata": {},
   "outputs": [],
   "source": []
  },
  {
   "cell_type": "markdown",
   "metadata": {},
   "source": [
    "Right now we can do multiplicaton and addition, but not much else yet.\n",
    "\n",
    "Now we will learn to calculate the derivatives. 30:50"
   ]
  },
  {
   "cell_type": "code",
   "execution_count": null,
   "metadata": {},
   "outputs": [],
   "source": []
  },
  {
   "cell_type": "code",
   "execution_count": 10,
   "metadata": {},
   "outputs": [],
   "source": [
    "def lol():\n",
    "\n",
    "    hbig = Value(10000)\n",
    "    hsmall = Value(0.0001)\n",
    "\n",
    "    a = Value(2.0, label = 'a')\n",
    "    b = Value(-3.0, label = 'b')\n",
    "    c = Value(6.0, label = 'c')\n",
    "    d = Value(-9, label= 'e')\n",
    "    e1 = a*b*c + d\n",
    "    m = Value(-1)\n",
    "\n",
    "    enormal = e1 * m; enormal.label = 'enormal'\n",
    "\n",
    "    a = Value(2.0, label = 'a') \n",
    "    b = Value(-3.0, label = 'b')\n",
    "    c = Value(6.0 + 0.0001, label = 'c')\n",
    "    d = Value(-9, label= 'e')\n",
    "    e2 = a*b*c + d\n",
    "    \n",
    "    \n",
    "    \n",
    "    r = (e2 + enormal) * hbig\n",
    "\n",
    "    print(r)\n",
    "\n",
    "\n",
    "    #Worked I did backpropagation correctly in this small model, the derivative -3.00000000 is correct."
   ]
  },
  {
   "cell_type": "code",
   "execution_count": 11,
   "metadata": {},
   "outputs": [
    {
     "name": "stdout",
     "output_type": "stream",
     "text": [
      "Value(data=-5.9999999999860165)\n"
     ]
    }
   ],
   "source": [
    "lol()"
   ]
  },
  {
   "cell_type": "code",
   "execution_count": 12,
   "metadata": {},
   "outputs": [],
   "source": [
    "a = Value(2.0, label = 'a')\n",
    "b = Value(-3.0, label = 'b')\n",
    "c = Value(7.0, label = 'c')\n",
    "d = a * b; d.label = 'd'\n",
    "e = c * d; e.label = 'e'"
   ]
  },
  {
   "cell_type": "code",
   "execution_count": 13,
   "metadata": {},
   "outputs": [],
   "source": [
    "def lol2():\n",
    "\n",
    "    h = 0.001\n",
    "\n",
    "    a = Value(2.0,  label = 'a')\n",
    "    b = Value(-3.0, label = 'b')\n",
    "    c = Value(7.0+h,  label = 'c')\n",
    "    d = a * b;  d.label = 'd'\n",
    "    e = c * d;  e.label = 'e'\n",
    "\n",
    "    e1 = e.data\n",
    "\n",
    "\n",
    "    a = Value(2.0, label = 'a')\n",
    "    b = Value(-3.0, label = 'b')\n",
    "    c = Value(7.0, label = 'c')\n",
    "    d = a * b; d.label = 'd'\n",
    "    e = c * d; e.label = 'e'\n",
    "\n",
    "    e2 = e.data\n",
    "    \n",
    "    \n",
    "    \n",
    "    r = (e1 - e2)/h\n",
    "\n",
    "    print(r)"
   ]
  },
  {
   "cell_type": "code",
   "execution_count": 14,
   "metadata": {},
   "outputs": [
    {
     "name": "stdout",
     "output_type": "stream",
     "text": [
      "-6.000000000000227\n"
     ]
    }
   ],
   "source": [
    "lol2()"
   ]
  },
  {
   "cell_type": "code",
   "execution_count": 15,
   "metadata": {},
   "outputs": [],
   "source": [
    "e.grad = 1"
   ]
  },
  {
   "cell_type": "code",
   "execution_count": 32,
   "metadata": {},
   "outputs": [
    {
     "data": {
      "image/svg+xml": [
       "<?xml version=\"1.0\" encoding=\"UTF-8\" standalone=\"no\"?>\n",
       "<!DOCTYPE svg PUBLIC \"-//W3C//DTD SVG 1.1//EN\"\n",
       " \"http://www.w3.org/Graphics/SVG/1.1/DTD/svg11.dtd\">\n",
       "<!-- Generated by graphviz version 11.0.0 (20240428.1522)\n",
       " -->\n",
       "<!-- Pages: 1 -->\n",
       "<svg width=\"837pt\" height=\"127pt\"\n",
       " viewBox=\"0.00 0.00 836.75 127.00\" xmlns=\"http://www.w3.org/2000/svg\" xmlns:xlink=\"http://www.w3.org/1999/xlink\">\n",
       "<g id=\"graph0\" class=\"graph\" transform=\"scale(1 1) rotate(0) translate(4 123)\">\n",
       "<polygon fill=\"white\" stroke=\"none\" points=\"-4,4 -4,-123 832.75,-123 832.75,4 -4,4\"/>\n",
       "<!-- 1945561433680 -->\n",
       "<g id=\"node1\" class=\"node\">\n",
       "<title>1945561433680</title>\n",
       "<polygon fill=\"none\" stroke=\"black\" points=\"633,-54.5 633,-90.5 828.75,-90.5 828.75,-54.5 633,-54.5\"/>\n",
       "<text text-anchor=\"middle\" x=\"644\" y=\"-67.2\" font-family=\"Times New Roman,serif\" font-size=\"14.00\">e</text>\n",
       "<polyline fill=\"none\" stroke=\"black\" points=\"655,-54.75 655,-90.5\"/>\n",
       "<text text-anchor=\"middle\" x=\"700.88\" y=\"-67.2\" font-family=\"Times New Roman,serif\" font-size=\"14.00\">data &#45;42.0000</text>\n",
       "<polyline fill=\"none\" stroke=\"black\" points=\"746.75,-54.75 746.75,-90.5\"/>\n",
       "<text text-anchor=\"middle\" x=\"787.75\" y=\"-67.2\" font-family=\"Times New Roman,serif\" font-size=\"14.00\">grad 0.0000</text>\n",
       "</g>\n",
       "<!-- 1945561433680* -->\n",
       "<g id=\"node2\" class=\"node\">\n",
       "<title>1945561433680*</title>\n",
       "<ellipse fill=\"none\" stroke=\"black\" cx=\"570\" cy=\"-72.5\" rx=\"27\" ry=\"18\"/>\n",
       "<text text-anchor=\"middle\" x=\"570\" y=\"-67.08\" font-family=\"Times New Roman,serif\" font-size=\"14.00\">*</text>\n",
       "</g>\n",
       "<!-- 1945561433680*&#45;&gt;1945561433680 -->\n",
       "<g id=\"edge1\" class=\"edge\">\n",
       "<title>1945561433680*&#45;&gt;1945561433680</title>\n",
       "<path fill=\"none\" stroke=\"black\" d=\"M597.23,-72.5C604.36,-72.5 612.55,-72.5 621.27,-72.5\"/>\n",
       "<polygon fill=\"black\" stroke=\"black\" points=\"621.07,-76 631.07,-72.5 621.07,-69 621.07,-76\"/>\n",
       "</g>\n",
       "<!-- 1945561441552 -->\n",
       "<g id=\"node3\" class=\"node\">\n",
       "<title>1945561441552</title>\n",
       "<polygon fill=\"none\" stroke=\"black\" points=\"3,-55.5 3,-91.5 187.5,-91.5 187.5,-55.5 3,-55.5\"/>\n",
       "<text text-anchor=\"middle\" x=\"14\" y=\"-68.2\" font-family=\"Times New Roman,serif\" font-size=\"14.00\">a</text>\n",
       "<polyline fill=\"none\" stroke=\"black\" points=\"25,-55.75 25,-91.5\"/>\n",
       "<text text-anchor=\"middle\" x=\"65.25\" y=\"-68.2\" font-family=\"Times New Roman,serif\" font-size=\"14.00\">data 2.0000</text>\n",
       "<polyline fill=\"none\" stroke=\"black\" points=\"105.5,-55.75 105.5,-91.5\"/>\n",
       "<text text-anchor=\"middle\" x=\"146.5\" y=\"-68.2\" font-family=\"Times New Roman,serif\" font-size=\"14.00\">grad 0.0000</text>\n",
       "</g>\n",
       "<!-- 1945561440736* -->\n",
       "<g id=\"node7\" class=\"node\">\n",
       "<title>1945561440736*</title>\n",
       "<ellipse fill=\"none\" stroke=\"black\" cx=\"253.5\" cy=\"-45.5\" rx=\"27\" ry=\"18\"/>\n",
       "<text text-anchor=\"middle\" x=\"253.5\" y=\"-40.08\" font-family=\"Times New Roman,serif\" font-size=\"14.00\">*</text>\n",
       "</g>\n",
       "<!-- 1945561441552&#45;&gt;1945561440736* -->\n",
       "<g id=\"edge3\" class=\"edge\">\n",
       "<title>1945561441552&#45;&gt;1945561440736*</title>\n",
       "<path fill=\"none\" stroke=\"black\" d=\"M187.59,-57.13C197.51,-55.35 207.14,-53.63 215.8,-52.08\"/>\n",
       "<polygon fill=\"black\" stroke=\"black\" points=\"216.25,-55.55 225.48,-50.34 215.02,-48.66 216.25,-55.55\"/>\n",
       "</g>\n",
       "<!-- 1945561439536 -->\n",
       "<g id=\"node4\" class=\"node\">\n",
       "<title>1945561439536</title>\n",
       "<polygon fill=\"none\" stroke=\"black\" points=\"0,-0.5 0,-36.5 190.5,-36.5 190.5,-0.5 0,-0.5\"/>\n",
       "<text text-anchor=\"middle\" x=\"11.75\" y=\"-13.2\" font-family=\"Times New Roman,serif\" font-size=\"14.00\">b</text>\n",
       "<polyline fill=\"none\" stroke=\"black\" points=\"23.5,-0.75 23.5,-36.5\"/>\n",
       "<text text-anchor=\"middle\" x=\"66\" y=\"-13.2\" font-family=\"Times New Roman,serif\" font-size=\"14.00\">data &#45;3.0000</text>\n",
       "<polyline fill=\"none\" stroke=\"black\" points=\"108.5,-0.75 108.5,-36.5\"/>\n",
       "<text text-anchor=\"middle\" x=\"149.5\" y=\"-13.2\" font-family=\"Times New Roman,serif\" font-size=\"14.00\">grad 0.0000</text>\n",
       "</g>\n",
       "<!-- 1945561439536&#45;&gt;1945561440736* -->\n",
       "<g id=\"edge4\" class=\"edge\">\n",
       "<title>1945561439536&#45;&gt;1945561440736*</title>\n",
       "<path fill=\"none\" stroke=\"black\" d=\"M190.75,-34.83C199.54,-36.35 208.04,-37.82 215.78,-39.15\"/>\n",
       "<polygon fill=\"black\" stroke=\"black\" points=\"214.94,-42.56 225.39,-40.81 216.13,-35.66 214.94,-42.56\"/>\n",
       "</g>\n",
       "<!-- 1945561441648 -->\n",
       "<g id=\"node5\" class=\"node\">\n",
       "<title>1945561441648</title>\n",
       "<polygon fill=\"none\" stroke=\"black\" points=\"319.12,-82.5 319.12,-118.5 504.38,-118.5 504.38,-82.5 319.12,-82.5\"/>\n",
       "<text text-anchor=\"middle\" x=\"330.5\" y=\"-95.2\" font-family=\"Times New Roman,serif\" font-size=\"14.00\">c</text>\n",
       "<polyline fill=\"none\" stroke=\"black\" points=\"341.88,-82.75 341.88,-118.5\"/>\n",
       "<text text-anchor=\"middle\" x=\"382.12\" y=\"-95.2\" font-family=\"Times New Roman,serif\" font-size=\"14.00\">data 7.0000</text>\n",
       "<polyline fill=\"none\" stroke=\"black\" points=\"422.38,-82.75 422.38,-118.5\"/>\n",
       "<text text-anchor=\"middle\" x=\"463.38\" y=\"-95.2\" font-family=\"Times New Roman,serif\" font-size=\"14.00\">grad 0.0000</text>\n",
       "</g>\n",
       "<!-- 1945561441648&#45;&gt;1945561433680* -->\n",
       "<g id=\"edge5\" class=\"edge\">\n",
       "<title>1945561441648&#45;&gt;1945561433680*</title>\n",
       "<path fill=\"none\" stroke=\"black\" d=\"M504.55,-84.05C514.41,-82.28 523.97,-80.57 532.58,-79.03\"/>\n",
       "<polygon fill=\"black\" stroke=\"black\" points=\"532.95,-82.52 542.18,-77.31 531.72,-75.63 532.95,-82.52\"/>\n",
       "</g>\n",
       "<!-- 1945561440736 -->\n",
       "<g id=\"node6\" class=\"node\">\n",
       "<title>1945561440736</title>\n",
       "<polygon fill=\"none\" stroke=\"black\" points=\"316.5,-27.5 316.5,-63.5 507,-63.5 507,-27.5 316.5,-27.5\"/>\n",
       "<text text-anchor=\"middle\" x=\"328.25\" y=\"-40.2\" font-family=\"Times New Roman,serif\" font-size=\"14.00\">d</text>\n",
       "<polyline fill=\"none\" stroke=\"black\" points=\"340,-27.75 340,-63.5\"/>\n",
       "<text text-anchor=\"middle\" x=\"382.5\" y=\"-40.2\" font-family=\"Times New Roman,serif\" font-size=\"14.00\">data &#45;6.0000</text>\n",
       "<polyline fill=\"none\" stroke=\"black\" points=\"425,-27.75 425,-63.5\"/>\n",
       "<text text-anchor=\"middle\" x=\"466\" y=\"-40.2\" font-family=\"Times New Roman,serif\" font-size=\"14.00\">grad 0.0000</text>\n",
       "</g>\n",
       "<!-- 1945561440736&#45;&gt;1945561433680* -->\n",
       "<g id=\"edge6\" class=\"edge\">\n",
       "<title>1945561440736&#45;&gt;1945561433680*</title>\n",
       "<path fill=\"none\" stroke=\"black\" d=\"M507.25,-61.83C516.04,-63.35 524.54,-64.82 532.28,-66.15\"/>\n",
       "<polygon fill=\"black\" stroke=\"black\" points=\"531.44,-69.56 541.89,-67.81 532.63,-62.66 531.44,-69.56\"/>\n",
       "</g>\n",
       "<!-- 1945561440736*&#45;&gt;1945561440736 -->\n",
       "<g id=\"edge2\" class=\"edge\">\n",
       "<title>1945561440736*&#45;&gt;1945561440736</title>\n",
       "<path fill=\"none\" stroke=\"black\" d=\"M280.65,-45.5C287.8,-45.5 296.01,-45.5 304.75,-45.5\"/>\n",
       "<polygon fill=\"black\" stroke=\"black\" points=\"304.56,-49 314.56,-45.5 304.56,-42 304.56,-49\"/>\n",
       "</g>\n",
       "</g>\n",
       "</svg>\n"
      ],
      "text/plain": [
       "<graphviz.graphs.Digraph at 0x1c4fc7fbbc0>"
      ]
     },
     "execution_count": 32,
     "metadata": {},
     "output_type": "execute_result"
    }
   ],
   "source": [
    "draw_dot(e)"
   ]
  },
  {
   "cell_type": "markdown",
   "metadata": {},
   "source": [
    "45 minuetse"
   ]
  },
  {
   "cell_type": "code",
   "execution_count": 33,
   "metadata": {},
   "outputs": [],
   "source": [
    "o.grad = 1.0\n"
   ]
  },
  {
   "cell_type": "markdown",
   "metadata": {},
   "source": []
  },
  {
   "cell_type": "code",
   "execution_count": 34,
   "metadata": {},
   "outputs": [
    {
     "ename": "AttributeError",
     "evalue": "'Value' object has no attribute '_backward'",
     "output_type": "error",
     "traceback": [
      "\u001b[1;31m---------------------------------------------------------------------------\u001b[0m",
      "\u001b[1;31mAttributeError\u001b[0m                            Traceback (most recent call last)",
      "Cell \u001b[1;32mIn[34], line 1\u001b[0m\n\u001b[1;32m----> 1\u001b[0m \u001b[43mo\u001b[49m\u001b[38;5;241;43m.\u001b[39;49m\u001b[43m_backward\u001b[49m()\n",
      "\u001b[1;31mAttributeError\u001b[0m: 'Value' object has no attribute '_backward'"
     ]
    }
   ],
   "source": [
    "o._backward()"
   ]
  },
  {
   "cell_type": "code",
   "execution_count": 17,
   "metadata": {},
   "outputs": [],
   "source": [
    "a.grad = -21\n",
    "b.grad = 14\n",
    "c.grad = -6\n",
    "d.grad = 7\n",
    "e.grad = 1"
   ]
  },
  {
   "cell_type": "code",
   "execution_count": 18,
   "metadata": {},
   "outputs": [],
   "source": [
    "a.data += 0.01 * a.grad\n",
    "b.data += 0.01 * b.grad\n",
    "c.data += 0.01 * c.grad\n",
    "\n",
    "\n",
    "d = a * b;  d.label = 'd'\n",
    "e = c * d;  e.label = 'e'\n"
   ]
  },
  {
   "cell_type": "code",
   "execution_count": 23,
   "metadata": {},
   "outputs": [
    {
     "data": {
      "image/svg+xml": [
       "<?xml version=\"1.0\" encoding=\"UTF-8\" standalone=\"no\"?>\n",
       "<!DOCTYPE svg PUBLIC \"-//W3C//DTD SVG 1.1//EN\"\n",
       " \"http://www.w3.org/Graphics/SVG/1.1/DTD/svg11.dtd\">\n",
       "<!-- Generated by graphviz version 11.0.0 (20240428.1522)\n",
       " -->\n",
       "<!-- Pages: 1 -->\n",
       "<svg width=\"1571pt\" height=\"210pt\"\n",
       " viewBox=\"0.00 0.00 1571.00 210.00\" xmlns=\"http://www.w3.org/2000/svg\" xmlns:xlink=\"http://www.w3.org/1999/xlink\">\n",
       "<g id=\"graph0\" class=\"graph\" transform=\"scale(1 1) rotate(0) translate(4 206)\">\n",
       "<polygon fill=\"white\" stroke=\"none\" points=\"-4,4 -4,-206 1567,-206 1567,4 -4,4\"/>\n",
       "<!-- 1945561131552 -->\n",
       "<g id=\"node1\" class=\"node\">\n",
       "<title>1945561131552</title>\n",
       "<polygon fill=\"none\" stroke=\"black\" points=\"3.75,-165.5 3.75,-201.5 195.75,-201.5 195.75,-165.5 3.75,-165.5\"/>\n",
       "<text text-anchor=\"middle\" x=\"18.5\" y=\"-178.2\" font-family=\"Times New Roman,serif\" font-size=\"14.00\">x2</text>\n",
       "<polyline fill=\"none\" stroke=\"black\" points=\"33.25,-165.75 33.25,-201.5\"/>\n",
       "<text text-anchor=\"middle\" x=\"73.5\" y=\"-178.2\" font-family=\"Times New Roman,serif\" font-size=\"14.00\">data 0.0000</text>\n",
       "<polyline fill=\"none\" stroke=\"black\" points=\"113.75,-165.75 113.75,-201.5\"/>\n",
       "<text text-anchor=\"middle\" x=\"154.75\" y=\"-178.2\" font-family=\"Times New Roman,serif\" font-size=\"14.00\">grad 0.0000</text>\n",
       "</g>\n",
       "<!-- 1945561317456* -->\n",
       "<g id=\"node4\" class=\"node\">\n",
       "<title>1945561317456*</title>\n",
       "<ellipse fill=\"none\" stroke=\"black\" cx=\"262.5\" cy=\"-128.5\" rx=\"27\" ry=\"18\"/>\n",
       "<text text-anchor=\"middle\" x=\"262.5\" y=\"-123.08\" font-family=\"Times New Roman,serif\" font-size=\"14.00\">*</text>\n",
       "</g>\n",
       "<!-- 1945561131552&#45;&gt;1945561317456* -->\n",
       "<g id=\"edge6\" class=\"edge\">\n",
       "<title>1945561131552&#45;&gt;1945561317456*</title>\n",
       "<path fill=\"none\" stroke=\"black\" d=\"M173.43,-165.03C182.28,-162.37 191.14,-159.51 199.5,-156.5 209.59,-152.87 220.33,-148.29 229.98,-143.89\"/>\n",
       "<polygon fill=\"black\" stroke=\"black\" points=\"231.37,-147.1 238.95,-139.7 228.41,-140.76 231.37,-147.1\"/>\n",
       "</g>\n",
       "<!-- 1945561132608 -->\n",
       "<g id=\"node2\" class=\"node\">\n",
       "<title>1945561132608</title>\n",
       "<polygon fill=\"none\" stroke=\"black\" points=\"2.25,-110.5 2.25,-146.5 197.25,-146.5 197.25,-110.5 2.25,-110.5\"/>\n",
       "<text text-anchor=\"middle\" x=\"18.5\" y=\"-123.2\" font-family=\"Times New Roman,serif\" font-size=\"14.00\">w2</text>\n",
       "<polyline fill=\"none\" stroke=\"black\" points=\"34.75,-110.75 34.75,-146.5\"/>\n",
       "<text text-anchor=\"middle\" x=\"75\" y=\"-123.2\" font-family=\"Times New Roman,serif\" font-size=\"14.00\">data 1.0000</text>\n",
       "<polyline fill=\"none\" stroke=\"black\" points=\"115.25,-110.75 115.25,-146.5\"/>\n",
       "<text text-anchor=\"middle\" x=\"156.25\" y=\"-123.2\" font-family=\"Times New Roman,serif\" font-size=\"14.00\">grad 0.0000</text>\n",
       "</g>\n",
       "<!-- 1945561132608&#45;&gt;1945561317456* -->\n",
       "<g id=\"edge8\" class=\"edge\">\n",
       "<title>1945561132608&#45;&gt;1945561317456*</title>\n",
       "<path fill=\"none\" stroke=\"black\" d=\"M197.51,-128.5C206.8,-128.5 215.79,-128.5 223.94,-128.5\"/>\n",
       "<polygon fill=\"black\" stroke=\"black\" points=\"223.72,-132 233.72,-128.5 223.72,-125 223.72,-132\"/>\n",
       "</g>\n",
       "<!-- 1945561317456 -->\n",
       "<g id=\"node3\" class=\"node\">\n",
       "<title>1945561317456</title>\n",
       "<polygon fill=\"none\" stroke=\"black\" points=\"327.75,-110.5 327.75,-146.5 543,-146.5 543,-110.5 327.75,-110.5\"/>\n",
       "<text text-anchor=\"middle\" x=\"354.12\" y=\"-123.2\" font-family=\"Times New Roman,serif\" font-size=\"14.00\">x2*w2</text>\n",
       "<polyline fill=\"none\" stroke=\"black\" points=\"380.5,-110.75 380.5,-146.5\"/>\n",
       "<text text-anchor=\"middle\" x=\"420.75\" y=\"-123.2\" font-family=\"Times New Roman,serif\" font-size=\"14.00\">data 0.0000</text>\n",
       "<polyline fill=\"none\" stroke=\"black\" points=\"461,-110.75 461,-146.5\"/>\n",
       "<text text-anchor=\"middle\" x=\"502\" y=\"-123.2\" font-family=\"Times New Roman,serif\" font-size=\"14.00\">grad 0.0000</text>\n",
       "</g>\n",
       "<!-- 1945561317984+ -->\n",
       "<g id=\"node6\" class=\"node\">\n",
       "<title>1945561317984+</title>\n",
       "<ellipse fill=\"none\" stroke=\"black\" cx=\"608.25\" cy=\"-100.5\" rx=\"27\" ry=\"18\"/>\n",
       "<text text-anchor=\"middle\" x=\"608.25\" y=\"-95.08\" font-family=\"Times New Roman,serif\" font-size=\"14.00\">+</text>\n",
       "</g>\n",
       "<!-- 1945561317456&#45;&gt;1945561317984+ -->\n",
       "<g id=\"edge9\" class=\"edge\">\n",
       "<title>1945561317456&#45;&gt;1945561317984+</title>\n",
       "<path fill=\"none\" stroke=\"black\" d=\"M543.14,-111.01C552.86,-109.41 562.18,-107.88 570.57,-106.51\"/>\n",
       "<polygon fill=\"black\" stroke=\"black\" points=\"570.94,-110 580.25,-104.92 569.81,-103.09 570.94,-110\"/>\n",
       "</g>\n",
       "<!-- 1945561317456*&#45;&gt;1945561317456 -->\n",
       "<g id=\"edge1\" class=\"edge\">\n",
       "<title>1945561317456*&#45;&gt;1945561317456</title>\n",
       "<path fill=\"none\" stroke=\"black\" d=\"M289.82,-128.5C297.5,-128.5 306.41,-128.5 315.98,-128.5\"/>\n",
       "<polygon fill=\"black\" stroke=\"black\" points=\"315.97,-132 325.97,-128.5 315.97,-125 315.97,-132\"/>\n",
       "</g>\n",
       "<!-- 1945561317984 -->\n",
       "<g id=\"node5\" class=\"node\">\n",
       "<title>1945561317984</title>\n",
       "<polygon fill=\"none\" stroke=\"black\" points=\"671.25,-82.5 671.25,-118.5 943.5,-118.5 943.5,-82.5 671.25,-82.5\"/>\n",
       "<text text-anchor=\"middle\" x=\"723.88\" y=\"-95.2\" font-family=\"Times New Roman,serif\" font-size=\"14.00\">x1*w1 + x2*w2</text>\n",
       "<polyline fill=\"none\" stroke=\"black\" points=\"776.5,-82.75 776.5,-118.5\"/>\n",
       "<text text-anchor=\"middle\" x=\"819\" y=\"-95.2\" font-family=\"Times New Roman,serif\" font-size=\"14.00\">data &#45;6.0000</text>\n",
       "<polyline fill=\"none\" stroke=\"black\" points=\"861.5,-82.75 861.5,-118.5\"/>\n",
       "<text text-anchor=\"middle\" x=\"902.5\" y=\"-95.2\" font-family=\"Times New Roman,serif\" font-size=\"14.00\">grad 0.0000</text>\n",
       "</g>\n",
       "<!-- 1945561318368+ -->\n",
       "<g id=\"node15\" class=\"node\">\n",
       "<title>1945561318368+</title>\n",
       "<ellipse fill=\"none\" stroke=\"black\" cx=\"1006.5\" cy=\"-72.5\" rx=\"27\" ry=\"18\"/>\n",
       "<text text-anchor=\"middle\" x=\"1006.5\" y=\"-67.08\" font-family=\"Times New Roman,serif\" font-size=\"14.00\">+</text>\n",
       "</g>\n",
       "<!-- 1945561317984&#45;&gt;1945561318368+ -->\n",
       "<g id=\"edge14\" class=\"edge\">\n",
       "<title>1945561317984&#45;&gt;1945561318368+</title>\n",
       "<path fill=\"none\" stroke=\"black\" d=\"M938.49,-82.02C949.28,-80.49 959.5,-79.03 968.57,-77.75\"/>\n",
       "<polygon fill=\"black\" stroke=\"black\" points=\"968.86,-81.24 978.27,-76.37 967.87,-74.31 968.86,-81.24\"/>\n",
       "</g>\n",
       "<!-- 1945561317984+&#45;&gt;1945561317984 -->\n",
       "<g id=\"edge2\" class=\"edge\">\n",
       "<title>1945561317984+&#45;&gt;1945561317984</title>\n",
       "<path fill=\"none\" stroke=\"black\" d=\"M635.43,-100.5C642.57,-100.5 650.85,-100.5 659.84,-100.5\"/>\n",
       "<polygon fill=\"black\" stroke=\"black\" points=\"659.6,-104 669.6,-100.5 659.6,-97 659.6,-104\"/>\n",
       "</g>\n",
       "<!-- 1945561127616 -->\n",
       "<g id=\"node7\" class=\"node\">\n",
       "<title>1945561127616</title>\n",
       "<polygon fill=\"none\" stroke=\"black\" points=\"0,-55.5 0,-91.5 199.5,-91.5 199.5,-55.5 0,-55.5\"/>\n",
       "<text text-anchor=\"middle\" x=\"16.25\" y=\"-68.2\" font-family=\"Times New Roman,serif\" font-size=\"14.00\">w1</text>\n",
       "<polyline fill=\"none\" stroke=\"black\" points=\"32.5,-55.75 32.5,-91.5\"/>\n",
       "<text text-anchor=\"middle\" x=\"75\" y=\"-68.2\" font-family=\"Times New Roman,serif\" font-size=\"14.00\">data &#45;3.0000</text>\n",
       "<polyline fill=\"none\" stroke=\"black\" points=\"117.5,-55.75 117.5,-91.5\"/>\n",
       "<text text-anchor=\"middle\" x=\"158.5\" y=\"-68.2\" font-family=\"Times New Roman,serif\" font-size=\"14.00\">grad 0.0000</text>\n",
       "</g>\n",
       "<!-- 1945561317696* -->\n",
       "<g id=\"node11\" class=\"node\">\n",
       "<title>1945561317696*</title>\n",
       "<ellipse fill=\"none\" stroke=\"black\" cx=\"262.5\" cy=\"-73.5\" rx=\"27\" ry=\"18\"/>\n",
       "<text text-anchor=\"middle\" x=\"262.5\" y=\"-68.08\" font-family=\"Times New Roman,serif\" font-size=\"14.00\">*</text>\n",
       "</g>\n",
       "<!-- 1945561127616&#45;&gt;1945561317696* -->\n",
       "<g id=\"edge13\" class=\"edge\">\n",
       "<title>1945561127616&#45;&gt;1945561317696*</title>\n",
       "<path fill=\"none\" stroke=\"black\" d=\"M199.81,-73.5C208.19,-73.5 216.28,-73.5 223.69,-73.5\"/>\n",
       "<polygon fill=\"black\" stroke=\"black\" points=\"223.58,-77 233.58,-73.5 223.58,-70 223.58,-77\"/>\n",
       "</g>\n",
       "<!-- 1945561320720 -->\n",
       "<g id=\"node8\" class=\"node\">\n",
       "<title>1945561320720</title>\n",
       "<polygon fill=\"none\" stroke=\"black\" points=\"714.38,-27.5 714.38,-63.5 900.38,-63.5 900.38,-27.5 714.38,-27.5\"/>\n",
       "<text text-anchor=\"middle\" x=\"726.12\" y=\"-40.2\" font-family=\"Times New Roman,serif\" font-size=\"14.00\">b</text>\n",
       "<polyline fill=\"none\" stroke=\"black\" points=\"737.88,-27.75 737.88,-63.5\"/>\n",
       "<text text-anchor=\"middle\" x=\"778.12\" y=\"-40.2\" font-family=\"Times New Roman,serif\" font-size=\"14.00\">data 8.0000</text>\n",
       "<polyline fill=\"none\" stroke=\"black\" points=\"818.38,-27.75 818.38,-63.5\"/>\n",
       "<text text-anchor=\"middle\" x=\"859.38\" y=\"-40.2\" font-family=\"Times New Roman,serif\" font-size=\"14.00\">grad 0.0000</text>\n",
       "</g>\n",
       "<!-- 1945561320720&#45;&gt;1945561318368+ -->\n",
       "<g id=\"edge11\" class=\"edge\">\n",
       "<title>1945561320720&#45;&gt;1945561318368+</title>\n",
       "<path fill=\"none\" stroke=\"black\" d=\"M900.59,-58.13C924.65,-61.43 949.22,-64.79 968.53,-67.44\"/>\n",
       "<polygon fill=\"black\" stroke=\"black\" points=\"967.94,-70.89 978.32,-68.78 968.89,-63.95 967.94,-70.89\"/>\n",
       "</g>\n",
       "<!-- 1945561135392 -->\n",
       "<g id=\"node9\" class=\"node\">\n",
       "<title>1945561135392</title>\n",
       "<polygon fill=\"none\" stroke=\"black\" points=\"3.75,-0.5 3.75,-36.5 195.75,-36.5 195.75,-0.5 3.75,-0.5\"/>\n",
       "<text text-anchor=\"middle\" x=\"18.5\" y=\"-13.2\" font-family=\"Times New Roman,serif\" font-size=\"14.00\">x1</text>\n",
       "<polyline fill=\"none\" stroke=\"black\" points=\"33.25,-0.75 33.25,-36.5\"/>\n",
       "<text text-anchor=\"middle\" x=\"73.5\" y=\"-13.2\" font-family=\"Times New Roman,serif\" font-size=\"14.00\">data 2.0000</text>\n",
       "<polyline fill=\"none\" stroke=\"black\" points=\"113.75,-0.75 113.75,-36.5\"/>\n",
       "<text text-anchor=\"middle\" x=\"154.75\" y=\"-13.2\" font-family=\"Times New Roman,serif\" font-size=\"14.00\">grad 0.0000</text>\n",
       "</g>\n",
       "<!-- 1945561135392&#45;&gt;1945561317696* -->\n",
       "<g id=\"edge12\" class=\"edge\">\n",
       "<title>1945561135392&#45;&gt;1945561317696*</title>\n",
       "<path fill=\"none\" stroke=\"black\" d=\"M173.43,-36.97C182.28,-39.63 191.14,-42.49 199.5,-45.5 209.59,-49.13 220.33,-53.71 229.98,-58.11\"/>\n",
       "<polygon fill=\"black\" stroke=\"black\" points=\"228.41,-61.24 238.95,-62.3 231.37,-54.9 228.41,-61.24\"/>\n",
       "</g>\n",
       "<!-- 1945561317696 -->\n",
       "<g id=\"node10\" class=\"node\">\n",
       "<title>1945561317696</title>\n",
       "<polygon fill=\"none\" stroke=\"black\" points=\"325.5,-55.5 325.5,-91.5 545.25,-91.5 545.25,-55.5 325.5,-55.5\"/>\n",
       "<text text-anchor=\"middle\" x=\"351.88\" y=\"-68.2\" font-family=\"Times New Roman,serif\" font-size=\"14.00\">x1*w1</text>\n",
       "<polyline fill=\"none\" stroke=\"black\" points=\"378.25,-55.75 378.25,-91.5\"/>\n",
       "<text text-anchor=\"middle\" x=\"420.75\" y=\"-68.2\" font-family=\"Times New Roman,serif\" font-size=\"14.00\">data &#45;6.0000</text>\n",
       "<polyline fill=\"none\" stroke=\"black\" points=\"463.25,-55.75 463.25,-91.5\"/>\n",
       "<text text-anchor=\"middle\" x=\"504.25\" y=\"-68.2\" font-family=\"Times New Roman,serif\" font-size=\"14.00\">grad 0.0000</text>\n",
       "</g>\n",
       "<!-- 1945561317696&#45;&gt;1945561317984+ -->\n",
       "<g id=\"edge7\" class=\"edge\">\n",
       "<title>1945561317696&#45;&gt;1945561317984+</title>\n",
       "<path fill=\"none\" stroke=\"black\" d=\"M545.56,-90.75C554.32,-92.14 562.71,-93.46 570.34,-94.67\"/>\n",
       "<polygon fill=\"black\" stroke=\"black\" points=\"569.7,-98.11 580.13,-96.21 570.8,-91.2 569.7,-98.11\"/>\n",
       "</g>\n",
       "<!-- 1945561317696*&#45;&gt;1945561317696 -->\n",
       "<g id=\"edge3\" class=\"edge\">\n",
       "<title>1945561317696*&#45;&gt;1945561317696</title>\n",
       "<path fill=\"none\" stroke=\"black\" d=\"M289.82,-73.5C296.93,-73.5 305.11,-73.5 313.89,-73.5\"/>\n",
       "<polygon fill=\"black\" stroke=\"black\" points=\"313.78,-77 323.78,-73.5 313.78,-70 313.78,-77\"/>\n",
       "</g>\n",
       "<!-- 1945561320816 -->\n",
       "<g id=\"node12\" class=\"node\">\n",
       "<title>1945561320816</title>\n",
       "<polygon fill=\"none\" stroke=\"black\" points=\"1380.75,-54.5 1380.75,-90.5 1563,-90.5 1563,-54.5 1380.75,-54.5\"/>\n",
       "<text text-anchor=\"middle\" x=\"1390.62\" y=\"-67.2\" font-family=\"Times New Roman,serif\" font-size=\"14.00\"> </text>\n",
       "<polyline fill=\"none\" stroke=\"black\" points=\"1400.5,-54.75 1400.5,-90.5\"/>\n",
       "<text text-anchor=\"middle\" x=\"1440.75\" y=\"-67.2\" font-family=\"Times New Roman,serif\" font-size=\"14.00\">data 0.9640</text>\n",
       "<polyline fill=\"none\" stroke=\"black\" points=\"1481,-54.75 1481,-90.5\"/>\n",
       "<text text-anchor=\"middle\" x=\"1522\" y=\"-67.2\" font-family=\"Times New Roman,serif\" font-size=\"14.00\">grad 0.0000</text>\n",
       "</g>\n",
       "<!-- 1945561320816tanh -->\n",
       "<g id=\"node13\" class=\"node\">\n",
       "<title>1945561320816tanh</title>\n",
       "<ellipse fill=\"none\" stroke=\"black\" cx=\"1317.75\" cy=\"-72.5\" rx=\"27\" ry=\"18\"/>\n",
       "<text text-anchor=\"middle\" x=\"1317.75\" y=\"-67.08\" font-family=\"Times New Roman,serif\" font-size=\"14.00\">tanh</text>\n",
       "</g>\n",
       "<!-- 1945561320816tanh&#45;&gt;1945561320816 -->\n",
       "<g id=\"edge4\" class=\"edge\">\n",
       "<title>1945561320816tanh&#45;&gt;1945561320816</title>\n",
       "<path fill=\"none\" stroke=\"black\" d=\"M1345.25,-72.5C1352.29,-72.5 1360.34,-72.5 1368.88,-72.5\"/>\n",
       "<polygon fill=\"black\" stroke=\"black\" points=\"1368.84,-76 1378.84,-72.5 1368.84,-69 1368.84,-76\"/>\n",
       "</g>\n",
       "<!-- 1945561318368 -->\n",
       "<g id=\"node14\" class=\"node\">\n",
       "<title>1945561318368</title>\n",
       "<polygon fill=\"none\" stroke=\"black\" points=\"1069.5,-54.5 1069.5,-90.5 1254.75,-90.5 1254.75,-54.5 1069.5,-54.5\"/>\n",
       "<text text-anchor=\"middle\" x=\"1080.88\" y=\"-67.2\" font-family=\"Times New Roman,serif\" font-size=\"14.00\">n</text>\n",
       "<polyline fill=\"none\" stroke=\"black\" points=\"1092.25,-54.75 1092.25,-90.5\"/>\n",
       "<text text-anchor=\"middle\" x=\"1132.5\" y=\"-67.2\" font-family=\"Times New Roman,serif\" font-size=\"14.00\">data 2.0000</text>\n",
       "<polyline fill=\"none\" stroke=\"black\" points=\"1172.75,-54.75 1172.75,-90.5\"/>\n",
       "<text text-anchor=\"middle\" x=\"1213.75\" y=\"-67.2\" font-family=\"Times New Roman,serif\" font-size=\"14.00\">grad 0.0000</text>\n",
       "</g>\n",
       "<!-- 1945561318368&#45;&gt;1945561320816tanh -->\n",
       "<g id=\"edge10\" class=\"edge\">\n",
       "<title>1945561318368&#45;&gt;1945561320816tanh</title>\n",
       "<path fill=\"none\" stroke=\"black\" d=\"M1255.15,-72.5C1263.52,-72.5 1271.64,-72.5 1279.09,-72.5\"/>\n",
       "<polygon fill=\"black\" stroke=\"black\" points=\"1279.03,-76 1289.03,-72.5 1279.03,-69 1279.03,-76\"/>\n",
       "</g>\n",
       "<!-- 1945561318368+&#45;&gt;1945561318368 -->\n",
       "<g id=\"edge5\" class=\"edge\">\n",
       "<title>1945561318368+&#45;&gt;1945561318368</title>\n",
       "<path fill=\"none\" stroke=\"black\" d=\"M1033.91,-72.5C1040.95,-72.5 1049,-72.5 1057.55,-72.5\"/>\n",
       "<polygon fill=\"black\" stroke=\"black\" points=\"1057.54,-76 1067.54,-72.5 1057.54,-69 1057.54,-76\"/>\n",
       "</g>\n",
       "</g>\n",
       "</svg>\n"
      ],
      "text/plain": [
       "<graphviz.graphs.Digraph at 0x1c4fc7dc4a0>"
      ]
     },
     "execution_count": 23,
     "metadata": {},
     "output_type": "execute_result"
    }
   ],
   "source": [
    "# inputs x1,x2\n",
    "x1 = Value(2.0, label='x1')\n",
    "x2 = Value(0.0, label='x2')\n",
    "# weights w1,w2\n",
    "w1 = Value(-3.0, label='w1')\n",
    "w2 = Value(1.0, label='w2')\n",
    "# bias of the neuron\n",
    "b = Value(8, label='b')\n",
    "# x1*w1 + x2*w2 + b\n",
    "x1w1 = x1*w1; x1w1.label = 'x1*w1'\n",
    "x2w2 = x2*w2; x2w2.label = 'x2*w2'\n",
    "x1w1x2w2 = x1w1 + x2w2; x1w1x2w2.label = 'x1*w1 + x2*w2'\n",
    "n = x1w1x2w2 + b; n.label = 'n'\n",
    "\n",
    "o = n.tanh()\n",
    "\n",
    "draw_dot(o)"
   ]
  },
  {
   "cell_type": "code",
   "execution_count": 20,
   "metadata": {},
   "outputs": [],
   "source": [
    "# inputs x1,x2\n",
    "x1 = Value(2.0, label='x1')\n",
    "x2 = Value(0.0, label='x2')\n",
    "# weights w1,w2\n",
    "w1 = Value(-3.0, label='w1')\n",
    "w2 = Value(1.0, label='w2')\n",
    "# bias of the neuron\n",
    "b = Value(6.8813735870195432, label='b')\n",
    "# x1*w1 + x2*w2 + b\n",
    "x1w1 = x1*w1; x1w1.label = 'x1*w1'\n",
    "x2w2 = x2*w2; x2w2.label = 'x2*w2'\n",
    "x1w1x2w2 = x1w1 + x2w2; x1w1x2w2.label = 'x1*w1 + x2*w2'\n",
    "n = x1w1x2w2 + b; n.label = 'n'\n",
    "o = n.tanh(); o.label = 'o'"
   ]
  }
 ],
 "metadata": {
  "kernelspec": {
   "display_name": "Python 3",
   "language": "python",
   "name": "python3"
  },
  "language_info": {
   "codemirror_mode": {
    "name": "ipython",
    "version": 3
   },
   "file_extension": ".py",
   "mimetype": "text/x-python",
   "name": "python",
   "nbconvert_exporter": "python",
   "pygments_lexer": "ipython3",
   "version": "3.12.4"
  }
 },
 "nbformat": 4,
 "nbformat_minor": 2
}
